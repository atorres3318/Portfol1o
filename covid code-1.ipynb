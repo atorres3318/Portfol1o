{
 "cells": [
  {
   "cell_type": "markdown",
   "metadata": {
    "collapsed": false
   },
   "source": [
    "### Evaluating Data\n",
    "I will downloaded Data about Covid exposures in Halifax, Nova Scotia from **Nov 19 - Nov 25**. I will:\n",
    "- create a dataframe\n",
    "- manipulate dataframe\n",
    "    - delete columns\n",
    "    - adding column titles\n",
    "    - switch data to date-time\n",
    "    - create new columns\n",
    "- use a loop create a column of street names"
   ]
  },
  {
   "cell_type": "code",
   "execution_count": 1,
   "metadata": {
    "collapsed": false
   },
   "outputs": [
   ],
   "source": [
    "import pandas as pd\n",
    "import matplotlib.pyplot as plt\n",
    "import numpy as np\n",
    "import seaborn as sns"
   ]
  },
  {
   "cell_type": "markdown",
   "metadata": {
    "collapsed": false
   },
   "source": [
    "### Reading in dataframe:"
   ]
  },
  {
   "cell_type": "code",
   "execution_count": 2,
   "metadata": {
    "collapsed": false
   },
   "outputs": [
    {
     "data": {
      "text/html": [
       "<div>\n",
       "<style scoped>\n",
       "    .dataframe tbody tr th:only-of-type {\n",
       "        vertical-align: middle;\n",
       "    }\n",
       "\n",
       "    .dataframe tbody tr th {\n",
       "        vertical-align: top;\n",
       "    }\n",
       "\n",
       "    .dataframe thead th {\n",
       "        text-align: right;\n",
       "    }\n",
       "</style>\n",
       "<table border=\"1\" class=\"dataframe\">\n",
       "  <thead>\n",
       "    <tr style=\"text-align: right;\">\n",
       "      <th></th>\n",
       "      <th>Fit4Less</th>\n",
       "      <th>Wed, 11/25/2020 -18:00</th>\n",
       "      <th>1535 Dresden Row, Halifax</th>\n",
       "      <th>details</th>\n",
       "      <th>Get tested immediately</th>\n",
       "      <th>Central</th>\n",
       "      <th>11/27/2020 - 20:35</th>\n",
       "      <th>Gym</th>\n",
       "    </tr>\n",
       "  </thead>\n",
       "  <tbody>\n",
       "    <tr>\n",
       "      <th>0</th>\n",
       "      <td>Fit4Less Sackville</td>\n",
       "      <td>Wed, 11/25/2020 -15:30</td>\n",
       "      <td>776 Sackville Dr, Lower Sackville</td>\n",
       "      <td>details</td>\n",
       "      <td>Get tested immediately</td>\n",
       "      <td>Central</td>\n",
       "      <td>12/03/2020 - 09:33</td>\n",
       "      <td>Gym</td>\n",
       "    </tr>\n",
       "    <tr>\n",
       "      <th>1</th>\n",
       "      <td>Bluenose II Restaurant</td>\n",
       "      <td>Wed, 11/25/2020 -08:30</td>\n",
       "      <td>1824 Hollis St, Halifax</td>\n",
       "      <td>details</td>\n",
       "      <td>Get tested immediately</td>\n",
       "      <td>Central</td>\n",
       "      <td>11/30/2020 - 15:51</td>\n",
       "      <td>Restaurant/Bar</td>\n",
       "    </tr>\n",
       "    <tr>\n",
       "      <th>2</th>\n",
       "      <td>Fit4Less Sackville</td>\n",
       "      <td>Tue, 11/24/2020 - 17:00</td>\n",
       "      <td>776 Sackville Dr, Lower Sackville</td>\n",
       "      <td>details</td>\n",
       "      <td>Get tested immediately</td>\n",
       "      <td>Central</td>\n",
       "      <td>12/03/2020 - 09:33</td>\n",
       "      <td>Gym</td>\n",
       "    </tr>\n",
       "    <tr>\n",
       "      <th>3</th>\n",
       "      <td>Bluenose II Restaurant</td>\n",
       "      <td>Tue, 11/24/2020 - 08:30</td>\n",
       "      <td>1824 Hollis St, Halifax</td>\n",
       "      <td>details</td>\n",
       "      <td>Get tested immediately</td>\n",
       "      <td>Central</td>\n",
       "      <td>11/30/2020 - 15:50</td>\n",
       "      <td>Restaurant/Bar</td>\n",
       "    </tr>\n",
       "    <tr>\n",
       "      <th>4</th>\n",
       "      <td>Agricola Street Brasserie</td>\n",
       "      <td>Mon, 11/23/2020 -18:00</td>\n",
       "      <td>2540 Agricola St, Halifax</td>\n",
       "      <td>details</td>\n",
       "      <td>Get tested immediately</td>\n",
       "      <td>Central</td>\n",
       "      <td>12/03/2020 - 09:34</td>\n",
       "      <td>Restaurant/Bar</td>\n",
       "    </tr>\n",
       "  </tbody>\n",
       "</table>\n",
       "</div>"
      ],
      "text/plain": [
       "                    Fit4Less   Wed, 11/25/2020 -18:00  \\\n",
       "0         Fit4Less Sackville   Wed, 11/25/2020 -15:30   \n",
       "1     Bluenose II Restaurant   Wed, 11/25/2020 -08:30   \n",
       "2         Fit4Less Sackville  Tue, 11/24/2020 - 17:00   \n",
       "3     Bluenose II Restaurant  Tue, 11/24/2020 - 08:30   \n",
       "4  Agricola Street Brasserie   Mon, 11/23/2020 -18:00   \n",
       "\n",
       "           1535 Dresden Row, Halifax  details  Get tested immediately  \\\n",
       "0  776 Sackville Dr, Lower Sackville  details  Get tested immediately   \n",
       "1            1824 Hollis St, Halifax  details  Get tested immediately   \n",
       "2  776 Sackville Dr, Lower Sackville  details  Get tested immediately   \n",
       "3            1824 Hollis St, Halifax  details  Get tested immediately   \n",
       "4          2540 Agricola St, Halifax  details  Get tested immediately   \n",
       "\n",
       "   Central  11/27/2020 - 20:35              Gym  \n",
       "0  Central  12/03/2020 - 09:33              Gym  \n",
       "1  Central  11/30/2020 - 15:51   Restaurant/Bar  \n",
       "2  Central  12/03/2020 - 09:33              Gym  \n",
       "3  Central  11/30/2020 - 15:50   Restaurant/Bar  \n",
       "4  Central  12/03/2020 - 09:34   Restaurant/Bar  "
      ]
     },
     "execution_count": 2,
     "metadata": {
     },
     "output_type": "execute_result"
    }
   ],
   "source": [
    "data = pd.read_csv('covid_exposures.csv')\n",
    "\n",
    "data.head()"
   ]
  },
  {
   "cell_type": "markdown",
   "metadata": {
    "collapsed": false
   },
   "source": [
    "### Manipulating dataframe:"
   ]
  },
  {
   "cell_type": "code",
   "execution_count": 3,
   "metadata": {
    "collapsed": false
   },
   "outputs": [
   ],
   "source": [
    "#accidentally forgot to copy the column heads so adding them back in\n",
    "data.columns = ['where', 'date', 'address', 'details', 'advice', 'zone', 'last_updated', 'Establishment']\n",
    "#removing the data we dont need\n",
    "data = data.drop(columns = ['details', 'zone', 'last_updated'])\n",
    "#converting to timedate\n",
    "data['date']= pd.to_datetime(data['date'])"
   ]
  },
  {
   "cell_type": "markdown",
   "metadata": {
    "collapsed": false
   },
   "source": [
    "##### Create street name column:\n",
    "\n",
    "Using a for loops to grab the second word in the 'address' column. Appending this to the dataframe."
   ]
  },
  {
   "cell_type": "code",
   "execution_count": 4,
   "metadata": {
    "collapsed": false
   },
   "outputs": [
    {
     "data": {
      "text/html": [
       "<div>\n",
       "<style scoped>\n",
       "    .dataframe tbody tr th:only-of-type {\n",
       "        vertical-align: middle;\n",
       "    }\n",
       "\n",
       "    .dataframe tbody tr th {\n",
       "        vertical-align: top;\n",
       "    }\n",
       "\n",
       "    .dataframe thead th {\n",
       "        text-align: right;\n",
       "    }\n",
       "</style>\n",
       "<table border=\"1\" class=\"dataframe\">\n",
       "  <thead>\n",
       "    <tr style=\"text-align: right;\">\n",
       "      <th></th>\n",
       "      <th>where</th>\n",
       "      <th>date</th>\n",
       "      <th>address</th>\n",
       "      <th>advice</th>\n",
       "      <th>Establishment</th>\n",
       "      <th>Street</th>\n",
       "    </tr>\n",
       "  </thead>\n",
       "  <tbody>\n",
       "    <tr>\n",
       "      <th>0</th>\n",
       "      <td>Fit4Less Sackville</td>\n",
       "      <td>2020-11-25 15:30:00</td>\n",
       "      <td>776 Sackville Dr, Lower Sackville</td>\n",
       "      <td>Get tested immediately</td>\n",
       "      <td>Gym</td>\n",
       "      <td>Sackville</td>\n",
       "    </tr>\n",
       "    <tr>\n",
       "      <th>1</th>\n",
       "      <td>Bluenose II Restaurant</td>\n",
       "      <td>2020-11-25 08:30:00</td>\n",
       "      <td>1824 Hollis St, Halifax</td>\n",
       "      <td>Get tested immediately</td>\n",
       "      <td>Restaurant/Bar</td>\n",
       "      <td>Hollis</td>\n",
       "    </tr>\n",
       "    <tr>\n",
       "      <th>2</th>\n",
       "      <td>Fit4Less Sackville</td>\n",
       "      <td>2020-11-24 17:00:00</td>\n",
       "      <td>776 Sackville Dr, Lower Sackville</td>\n",
       "      <td>Get tested immediately</td>\n",
       "      <td>Gym</td>\n",
       "      <td>Sackville</td>\n",
       "    </tr>\n",
       "    <tr>\n",
       "      <th>3</th>\n",
       "      <td>Bluenose II Restaurant</td>\n",
       "      <td>2020-11-24 08:30:00</td>\n",
       "      <td>1824 Hollis St, Halifax</td>\n",
       "      <td>Get tested immediately</td>\n",
       "      <td>Restaurant/Bar</td>\n",
       "      <td>Hollis</td>\n",
       "    </tr>\n",
       "    <tr>\n",
       "      <th>4</th>\n",
       "      <td>Agricola Street Brasserie</td>\n",
       "      <td>2020-11-23 18:00:00</td>\n",
       "      <td>2540 Agricola St, Halifax</td>\n",
       "      <td>Get tested immediately</td>\n",
       "      <td>Restaurant/Bar</td>\n",
       "      <td>Agricola</td>\n",
       "    </tr>\n",
       "  </tbody>\n",
       "</table>\n",
       "</div>"
      ],
      "text/plain": [
       "                       where                date  \\\n",
       "0         Fit4Less Sackville 2020-11-25 15:30:00   \n",
       "1     Bluenose II Restaurant 2020-11-25 08:30:00   \n",
       "2         Fit4Less Sackville 2020-11-24 17:00:00   \n",
       "3     Bluenose II Restaurant 2020-11-24 08:30:00   \n",
       "4  Agricola Street Brasserie 2020-11-23 18:00:00   \n",
       "\n",
       "                             address                  advice    Establishment  \\\n",
       "0  776 Sackville Dr, Lower Sackville  Get tested immediately              Gym   \n",
       "1            1824 Hollis St, Halifax  Get tested immediately   Restaurant/Bar   \n",
       "2  776 Sackville Dr, Lower Sackville  Get tested immediately              Gym   \n",
       "3            1824 Hollis St, Halifax  Get tested immediately   Restaurant/Bar   \n",
       "4          2540 Agricola St, Halifax  Get tested immediately   Restaurant/Bar   \n",
       "\n",
       "      Street  \n",
       "0  Sackville  \n",
       "1     Hollis  \n",
       "2  Sackville  \n",
       "3     Hollis  \n",
       "4   Agricola  "
      ]
     },
     "execution_count": 4,
     "metadata": {
     },
     "output_type": "execute_result"
    }
   ],
   "source": [
    "# Grabbing just street name\n",
    "N = 2\n",
    "streets = []\n",
    "for val in data.address:\n",
    "    street = val.split(' ')[1]\n",
    "    streets.append(street)\n",
    "\n",
    "np_streets = np.array(streets)\n",
    "data['Street'] = np_streets\n",
    "data.head()"
   ]
  }
 ],
 "metadata": {
  "kernelspec": {
   "display_name": "Python 3 (system-wide)",
   "language": "python",
   "metadata": {
    "cocalc": {
     "description": "Python 3 programming language",
     "priority": 100,
     "url": "https://www.python.org/"
    }
   },
   "name": "python3",
   "resource_dir": "/ext/jupyter/kernels/python3"
  },
  "language_info": {
   "codemirror_mode": {
    "name": "ipython",
    "version": 3
   },
   "file_extension": ".py",
   "mimetype": "text/x-python",
   "name": "python",
   "nbconvert_exporter": "python",
   "pygments_lexer": "ipython3",
   "version": "3.8.5"
  }
 },
 "nbformat": 4,
 "nbformat_minor": 4
}